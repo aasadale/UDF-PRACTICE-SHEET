{
 "cells": [
  {
   "cell_type": "markdown",
   "metadata": {},
   "source": [
    "# Python User Define Function Practice Activity - 2 "
   ]
  },
  {
   "cell_type": "markdown",
   "metadata": {},
   "source": [
    "Asst. Prof. Syed Faisal Ali              $\\;\\;\\;\\;\\;\\;$              Programming Fundamentals - FALL 2019 $\\;\\;\\;\\;\\;\\;$ Software Engineering                     $\\;\\;\\;\\;\\;\\;$                   Dated: 27 Nov 2019"
   ]
  },
  {
   "cell_type": "markdown",
   "metadata": {},
   "source": [
    "Question 1: Create a function to find the following:\n",
    "If the base of triangle is 3 cm long and its equilateral triangle and the radius of circle is 1.5 cm then find the area of triangle shaded. \n"
   ]
  },
  {
   "cell_type": "markdown",
   "metadata": {},
   "source": [
    "![proj](q1.jpg)"
   ]
  },
  {
   "cell_type": "code",
   "execution_count": 3,
   "metadata": {},
   "outputs": [
    {
     "name": "stdout",
     "output_type": "stream",
     "text": [
      "enter the base of triangle3\n",
      "enter the radius of circle1.5\n",
      "16.314102431602805 cm³\n"
     ]
    }
   ],
   "source": [
    "def function1():\n",
    "    import math\n",
    "    from math import pi\n",
    "    a=int(input('enter the base of triangle'))\n",
    "    b=float(input('enter the radius of circle'))\n",
    "    area_of_circle=pi*b**2\n",
    "    area_of_triangle=(math.sqrt(3)/4*(a**2)*6)\n",
    "    area_of_shaded_region=(area_of_triangle-area_of_circle)\n",
    "    print(area_of_shaded_region,'cm\\u00b3')\n",
    "function1()    \n",
    "          "
   ]
  },
  {
   "cell_type": "markdown",
   "metadata": {},
   "source": [
    "Question 3: Create a function to find the following:\n",
    "If the base of triangle is 5 cm long and its equilateral triangle and the radius of circle is 2.25 cm then find the area of triangle shaded. \n"
   ]
  },
  {
   "cell_type": "markdown",
   "metadata": {},
   "source": [
    "![proj](q3.jpg)"
   ]
  },
  {
   "cell_type": "code",
   "execution_count": 31,
   "metadata": {},
   "outputs": [
    {
     "name": "stdout",
     "output_type": "stream",
     "text": [
      "enter the base of triangle5\n",
      "enter the radius of circle2.25\n",
      "49.04759247503458 cm3\n"
     ]
    }
   ],
   "source": [
    "def function1():\n",
    "    import math\n",
    "    from math import pi\n",
    "    a=int(input('enter the base of triangle'))\n",
    "    b=float(input('enter the radius of circle'))\n",
    "    area_of_circle=pi*b**2\n",
    "    area_of_triangle=(math.sqrt(3)/4*(a**2)*6)\n",
    "    area_of_shaded_region=(area_of_triangle-area_of_circle)\n",
    "    print(area_of_shaded_region,'cm3')\n",
    "function1()\n",
    "          "
   ]
  },
  {
   "cell_type": "markdown",
   "metadata": {},
   "source": [
    "Question 4:\n",
    "Create a function that takes a list of random numbers from users and add only those which are even. If all the numbers are odd it will return sorry no even number found.\n"
   ]
  },
  {
   "cell_type": "code",
   "execution_count": 2,
   "metadata": {},
   "outputs": [
    {
     "name": "stdout",
     "output_type": "stream",
     "text": [
      "Enter the Numbers : 4\n",
      "Enter the Numbers : 6\n",
      "Enter the Numbers : 8\n",
      "Enter the Numbers : 0\n",
      "Enter the Numbers : 1\n",
      "Enter the Numbers : 5\n",
      "Enter the Numbers : 9\n",
      "Enter the Numbers : 7\n",
      "[4, 6, 8, 0, 1, 5, 9, 7]\n",
      "Total Sum of Even Numbers Only =  18\n"
     ]
    }
   ],
   "source": [
    "def evennumbers():\n",
    "    a = ['','','','','','','','']\n",
    "    sum=0\n",
    "    for i in range(8):\n",
    "        a[i]=int(input(\"Enter the Numbers : \"))\n",
    "    print(a)\n",
    "    \n",
    "    for i in a:\n",
    "        if i%2==0:\n",
    "            sum = sum + i\n",
    "    print(\"Total Sum of Even Numbers Only = \",sum)\n",
    "evennumbers()"
   ]
  },
  {
   "cell_type": "markdown",
   "metadata": {},
   "source": [
    "Question 5:\n",
    "Write a function which can take a list of numbers and it will return sorted list.\n"
   ]
  },
  {
   "cell_type": "code",
   "execution_count": 6,
   "metadata": {},
   "outputs": [
    {
     "data": {
      "text/plain": [
       "[1, 2, 3, 4, 5, 6, 7, 8, 9]"
      ]
     },
     "execution_count": 6,
     "metadata": {},
     "output_type": "execute_result"
    }
   ],
   "source": [
    "def sort():\n",
    "    a=[2,5,7,8,9,1,3,4,6]\n",
    "    a.sort()\n",
    "    return a\n",
    "sort()"
   ]
  },
  {
   "cell_type": "markdown",
   "metadata": {},
   "source": [
    "Question 6:\n",
    "Write a function that will take the radius and return the perimeter and area of circle with 5% increment.\n"
   ]
  },
  {
   "cell_type": "code",
   "execution_count": 2,
   "metadata": {},
   "outputs": [
    {
     "name": "stdout",
     "output_type": "stream",
     "text": [
      "enter the radius:3\n",
      "The perimeter of circle: 19.792033717615695\n",
      "The area of circle: 29.688050576423546 inches\n"
     ]
    }
   ],
   "source": [
    "def function1():\n",
    "    from math import pi\n",
    "    radius_of_circle=int(input(\"enter the radius:\"))\n",
    "    perimeter_of_circle=((2*pi*radius_of_circle)/100)*105\n",
    "    print(\"The perimeter of circle:\", perimeter_of_circle)\n",
    "    A=(pi*(radius_of_circle**2)/100)*105\n",
    "    print(\"The area of circle:\",A,'inches')\n",
    "function1()"
   ]
  },
  {
   "cell_type": "markdown",
   "metadata": {},
   "source": [
    "Question 7:\n",
    "Write a function that will take the strings as argument and return number of vowels and consonants.\n"
   ]
  },
  {
   "cell_type": "code",
   "execution_count": 5,
   "metadata": {},
   "outputs": [
    {
     "name": "stdout",
     "output_type": "stream",
     "text": [
      "Enter a String :  usman institute of information and technology\n",
      "Number of Vowels in given argument: = 16\n",
      "Number of Consonants in given argument: = 30\n"
     ]
    }
   ],
   "source": [
    "#time 3 minute\n",
    "def countvowel():\n",
    "    total = 0\n",
    "    count = 0\n",
    "    string = input(\"Enter a String : \")\n",
    "    \n",
    "    for i in string:\n",
    "        if i in 'aeiouAEIOU':\n",
    "            total = total + 1\n",
    "        else:\n",
    "            count = count + 1\n",
    "    print(\"Number of Vowels in given argument: =\",total)\n",
    "    print(\"Number of Consonants in given argument: =\",count)\n",
    "countvowel()"
   ]
  },
  {
   "cell_type": "markdown",
   "metadata": {},
   "source": [
    "Question 8:\n",
    "Write a function that will take length and breadth for a rectangle and return perimeter and area of rectangle with 8% increment.\n"
   ]
  },
  {
   "cell_type": "code",
   "execution_count": 8,
   "metadata": {},
   "outputs": [
    {
     "name": "stdout",
     "output_type": "stream",
     "text": [
      "enter the lenght of rectangle5\n",
      "enter the breadth of rectangle4\n",
      "19.44 cm²\n",
      "21.6 cm\n"
     ]
    }
   ],
   "source": [
    "def function1():\n",
    "    a=int(input('enter the lenght of rectangle'))\n",
    "    b=int(input('enter the breadth of rectangle'))\n",
    "    perimeter_of_rectangle=2*(a+b)*1.08\n",
    "    area_of_rectangle=(a*b)*1.08\n",
    "    print(perimeter_of_rectangle,'cm\\u00b2')\n",
    "    print(area_of_rectangle,'cm')\n",
    " \n",
    "function1()\n",
    "    "
   ]
  },
  {
   "cell_type": "markdown",
   "metadata": {},
   "source": [
    "Question 9:\n",
    "Write a function that can take the numbers in strings. From string find which number is even and which one is odd. Save them in two different lists and generate the result.\n"
   ]
  },
  {
   "cell_type": "code",
   "execution_count": 9,
   "metadata": {},
   "outputs": [
    {
     "name": "stdout",
     "output_type": "stream",
     "text": [
      "Even Numbers:  4\n",
      "Odd Numbers:  5\n"
     ]
    }
   ],
   "source": [
    "def evenodd():\n",
    "    a=(1,2,3,4,5,6,7,8,9)\n",
    "    even=0\n",
    "    odd=0\n",
    "    \n",
    "    for num in a:\n",
    "        if num % 2 ==0:\n",
    "            even= even+1\n",
    "        else:\n",
    "            odd= odd+1\n",
    "    print(\"Even Numbers: \",even)\n",
    "    print(\"Odd Numbers: \", odd)\n",
    "evenodd()"
   ]
  },
  {
   "cell_type": "markdown",
   "metadata": {},
   "source": [
    "Question 11:\n",
    "Write a function that will take verbs in words and return a list of verbs with continuous tense by adding (ing) at the end of each verb.\n"
   ]
  },
  {
   "cell_type": "code",
   "execution_count": 10,
   "metadata": {},
   "outputs": [
    {
     "name": "stdout",
     "output_type": "stream",
     "text": [
      "Even Numbers:  4\n",
      "Odd Numbers:  5\n"
     ]
    }
   ],
   "source": [
    "def string():\n",
    "    a=(1,2,3,4,5,6,7,8,9)\n",
    "    even=0\n",
    "    odd=0\n",
    "    \n",
    "    for num in a:\n",
    "        if num % 2 ==0:\n",
    "            even= even+1\n",
    "        else:\n",
    "            odd= odd+1\n",
    "    print(\"Even Numbers: \",even)\n",
    "    print(\"Odd Numbers: \", odd)\n",
    "string()"
   ]
  },
  {
   "cell_type": "markdown",
   "metadata": {},
   "source": [
    "Question 12:\n",
    "Make a function which can take two radius of circles and find the areas of it and subtract smaller one from larger one and tell the remaining area of circle.\n"
   ]
  },
  {
   "cell_type": "code",
   "execution_count": 11,
   "metadata": {},
   "outputs": [
    {
     "name": "stdout",
     "output_type": "stream",
     "text": [
      "Enter the first verb:eat\n",
      "Enter the second verb:drink\n",
      "Enter the third verb:study\n",
      "eating\n",
      "drinking\n",
      "studying\n"
     ]
    }
   ],
   "source": [
    "def verbs():\n",
    "    a=input(\"Enter the first verb:\")\n",
    "    b=input(\"Enter the second verb:\")\n",
    "    c=input(\"Enter the third verb:\")\n",
    "    print(a+str('ing'))\n",
    "    print(b+str('ing'))\n",
    "    print(c+str('ing'))\n",
    "verbs()"
   ]
  },
  {
   "cell_type": "markdown",
   "metadata": {},
   "source": [
    "Question 13:\n",
    "Write a function that will take a string and calculate number of Upper case letters and lower case letters.\n"
   ]
  },
  {
   "cell_type": "code",
   "execution_count": 14,
   "metadata": {},
   "outputs": [
    {
     "name": "stdout",
     "output_type": "stream",
     "text": [
      "Enter a String : Usman Institute Of Information And Technology\n",
      "Total Number of Uppercase :  6\n",
      "Total Number of Lowercase :  34\n"
     ]
    }
   ],
   "source": [
    "#time 6 minute\n",
    "def countupperlower():\n",
    "    total = 0\n",
    "    count = 0\n",
    "    a= input(\"Enter a String : \")\n",
    "    for i in a:\n",
    "        if i in 'ABCDEFGHIJKLMNOPQRSTUVWXYZ':\n",
    "            total = total + 1\n",
    "        else:\n",
    "            if i in 'abcdefghijklmnopqrstuvwxyz':\n",
    "                count = count + 1\n",
    "    print(\"Total Number of Uppercase : \",total)\n",
    "    print(\"Total Number of Lowercase : \",count)\n",
    "countupperlower()"
   ]
  },
  {
   "cell_type": "markdown",
   "metadata": {},
   "source": [
    "Question 14:\n",
    "Write a function which will take length and breadth of two rectangles. Subtract the smaller rectangle from the larger rectangle and return the area left behind.\n"
   ]
  },
  {
   "cell_type": "code",
   "execution_count": 17,
   "metadata": {},
   "outputs": [
    {
     "name": "stdout",
     "output_type": "stream",
     "text": [
      "enter the length:4\n",
      "enter the breadth:5\n",
      "enter the length:7\n",
      "enter the breadth:8\n",
      "36 cm\n"
     ]
    }
   ],
   "source": [
    "def rectangle():\n",
    "    l1=int(input(\"enter the length:\"))\n",
    "    b1=int(input(\"enter the breadth:\"))\n",
    "    A1=(l1*b1)\n",
    "    l2=int(input(\"enter the length:\"))\n",
    "    b2=int(input(\"enter the breadth:\"))\n",
    "    A2=(l2*b2)\n",
    "    if A1<A2:\n",
    "        print(A2-A1,'cm')\n",
    "    else:\n",
    "        print(A1-A2)\n",
    "rectangle()"
   ]
  },
  {
   "cell_type": "markdown",
   "metadata": {},
   "source": [
    "Question 15:\n",
    "Create a function that can add the fractions in series such as 1 to 8 = 1/8+1/7+1/6+1/5 …… ½ and return the result in fraction not in decimal.\n"
   ]
  },
  {
   "cell_type": "code",
   "execution_count": 15,
   "metadata": {},
   "outputs": [
    {
     "name": "stdout",
     "output_type": "stream",
     "text": [
      "1\n",
      "3/2\n",
      "11/6\n",
      "25/12\n",
      "137/60\n"
     ]
    }
   ],
   "source": [
    "def fractions():\n",
    "    from fractions import Fraction\n",
    "    sum = 0\n",
    "    for i in range(1,6):\n",
    "        sum = sum + Fraction(1,i)\n",
    "        print(sum)\n",
    "fractions()"
   ]
  },
  {
   "cell_type": "markdown",
   "metadata": {},
   "source": [
    "Question 18:\n",
    "Write a function that can take square length and radius of circle. Find the area of both and subtract the smallest shape from largest one and return the remaining shape area.\n"
   ]
  },
  {
   "cell_type": "code",
   "execution_count": 20,
   "metadata": {},
   "outputs": [
    {
     "name": "stdout",
     "output_type": "stream",
     "text": [
      "Enter the length of square:7\n",
      "Enter the radius of circle:5\n",
      "The area remaining is: 29.53981633974483 cm\n"
     ]
    }
   ],
   "source": [
    "def squarelenght():\n",
    "    from math import pi\n",
    "    length=int(input(\"Enter the length of square:\"))\n",
    "    radius=int(input(\"Enter the radius of circle:\"))\n",
    "    Area_sq=length**2\n",
    "    Area_circle=pi*radius**2\n",
    "    Area=Area_circle-Area_sq\n",
    "    if Area>0:\n",
    "        print(\"The area remaining is:\",Area,'cm')\n",
    "    else:\n",
    "        print(\"The area cannot be in negative\")\n",
    "squarelenght()"
   ]
  },
  {
   "cell_type": "code",
   "execution_count": null,
   "metadata": {},
   "outputs": [],
   "source": []
  }
 ],
 "metadata": {
  "kernelspec": {
   "display_name": "Python 3",
   "language": "python",
   "name": "python3"
  },
  "language_info": {
   "codemirror_mode": {
    "name": "ipython",
    "version": 3
   },
   "file_extension": ".py",
   "mimetype": "text/x-python",
   "name": "python",
   "nbconvert_exporter": "python",
   "pygments_lexer": "ipython3",
   "version": "3.7.4"
  }
 },
 "nbformat": 4,
 "nbformat_minor": 2
}
